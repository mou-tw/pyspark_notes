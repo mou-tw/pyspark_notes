{
  "nbformat": 4,
  "nbformat_minor": 2,
  "metadata": {
    "kernelspec": {
      "name": "synapse_pyspark",
      "display_name": "Synapse PySpark"
    },
    "language_info": {
      "name": "python"
    },
    "description": null,
    "save_output": true,
    "synapse_widget": {
      "version": "0.1",
      "state": {
        "d6b681ec-b64e-4f3e-86be-383b9f59f7e0": {
          "type": "Synapse.DataFrame",
          "sync_state": {
            "table": {
              "rows": [
                {
                  "0": "Eric",
                  "1": [
                    "swim",
                    "jogging"
                  ],
                  "2": {
                    "car": [
                      "toyota",
                      "lexus"
                    ]
                  }
                },
                {
                  "0": "Amy",
                  "1": [
                    "jogging"
                  ],
                  "2": {
                    "car": [
                      "BMW"
                    ],
                    "scooter": [
                      "SYM"
                    ]
                  }
                },
                {
                  "0": "Alex",
                  "1": [],
                  "2": {}
                }
              ],
              "schema": [
                {
                  "key": "0",
                  "name": "name",
                  "type": "string"
                },
                {
                  "key": "1",
                  "name": "interest",
                  "type": "ArrayType(StringType,true)"
                },
                {
                  "key": "2",
                  "name": "car_property",
                  "type": "MapType(StringType,ArrayType(StringType,true),true)"
                }
              ],
              "truncated": false
            },
            "isSummary": false,
            "language": "scala"
          },
          "persist_state": {
            "view": {
              "type": "details",
              "tableOptions": {},
              "chartOptions": {
                "chartType": "bar",
                "aggregationType": "count",
                "categoryFieldKeys": [
                  "0"
                ],
                "seriesFieldKeys": [
                  "0"
                ],
                "isStacked": false
              }
            }
          }
        },
        "34c11031-69f6-4120-a9a3-eeb6ba1748b0": {
          "type": "Synapse.DataFrame",
          "sync_state": {
            "table": {
              "rows": [
                {
                  "0": "Eric",
                  "1": "swim"
                },
                {
                  "0": "Eric",
                  "1": "jogging"
                },
                {
                  "0": "Amy",
                  "1": "jogging"
                }
              ],
              "schema": [
                {
                  "key": "0",
                  "name": "name",
                  "type": "string"
                },
                {
                  "key": "1",
                  "name": "col",
                  "type": "string"
                }
              ],
              "truncated": false
            },
            "isSummary": false,
            "language": "scala"
          },
          "persist_state": {
            "view": {
              "type": "details",
              "tableOptions": {},
              "chartOptions": {
                "chartType": "bar",
                "aggregationType": "count",
                "categoryFieldKeys": [
                  "0"
                ],
                "seriesFieldKeys": [
                  "0"
                ],
                "isStacked": false
              }
            }
          }
        },
        "5700c0b2-6858-4b7a-b3f8-eab19ffc71fe": {
          "type": "Synapse.DataFrame",
          "sync_state": {
            "table": {
              "rows": [
                {
                  "0": "Eric",
                  "1": "car",
                  "2": [
                    "toyota",
                    "lexus"
                  ]
                },
                {
                  "0": "Amy",
                  "1": "car",
                  "2": [
                    "BMW"
                  ]
                },
                {
                  "0": "Amy",
                  "1": "scooter",
                  "2": [
                    "SYM"
                  ]
                }
              ],
              "schema": [
                {
                  "key": "0",
                  "name": "name",
                  "type": "string"
                },
                {
                  "key": "1",
                  "name": "key",
                  "type": "string"
                },
                {
                  "key": "2",
                  "name": "value",
                  "type": "ArrayType(StringType,true)"
                }
              ],
              "truncated": false
            },
            "isSummary": false,
            "language": "scala"
          },
          "persist_state": {
            "view": {
              "type": "details",
              "tableOptions": {},
              "chartOptions": {
                "chartType": "bar",
                "aggregationType": "count",
                "categoryFieldKeys": [
                  "0"
                ],
                "seriesFieldKeys": [
                  "0"
                ],
                "isStacked": false
              }
            }
          }
        },
        "acb52d4c-dcd3-4fcb-b7a6-15c3ccdc2915": {
          "type": "Synapse.DataFrame",
          "sync_state": {
            "table": {
              "rows": [
                {
                  "0": "Eric",
                  "1": "swim"
                },
                {
                  "0": "Eric",
                  "1": "jogging"
                },
                {
                  "0": "Amy",
                  "1": "jogging"
                },
                {
                  "0": "Alex"
                }
              ],
              "schema": [
                {
                  "key": "0",
                  "name": "name",
                  "type": "string"
                },
                {
                  "key": "1",
                  "name": "col",
                  "type": "string"
                }
              ],
              "truncated": false
            },
            "isSummary": false,
            "language": "scala"
          },
          "persist_state": {
            "view": {
              "type": "details",
              "tableOptions": {},
              "chartOptions": {
                "chartType": "bar",
                "aggregationType": "count",
                "categoryFieldKeys": [
                  "0"
                ],
                "seriesFieldKeys": [
                  "0"
                ],
                "isStacked": false
              }
            }
          }
        },
        "6d25bbc6-3e72-4f4d-9a75-532aa6c9af2e": {
          "type": "Synapse.DataFrame",
          "sync_state": {
            "table": {
              "rows": [
                {
                  "0": "Eric",
                  "1": "car",
                  "2": [
                    "toyota",
                    "lexus"
                  ]
                },
                {
                  "0": "Amy",
                  "1": "car",
                  "2": [
                    "BMW"
                  ]
                },
                {
                  "0": "Amy",
                  "1": "scooter",
                  "2": [
                    "SYM"
                  ]
                },
                {
                  "0": "Alex"
                }
              ],
              "schema": [
                {
                  "key": "0",
                  "name": "name",
                  "type": "string"
                },
                {
                  "key": "1",
                  "name": "key",
                  "type": "string"
                },
                {
                  "key": "2",
                  "name": "value",
                  "type": "ArrayType(StringType,true)"
                }
              ],
              "truncated": false
            },
            "isSummary": false,
            "language": "scala"
          },
          "persist_state": {
            "view": {
              "type": "details",
              "tableOptions": {},
              "chartOptions": {
                "chartType": "bar",
                "aggregationType": "count",
                "categoryFieldKeys": [
                  "0"
                ],
                "seriesFieldKeys": [
                  "0"
                ],
                "isStacked": false
              }
            }
          }
        },
        "e33b4518-6f2f-4f46-9b18-8f04aa8919bf": {
          "type": "Synapse.DataFrame",
          "sync_state": {
            "table": {
              "rows": [
                {
                  "0": "Eric",
                  "1": "0",
                  "2": "car",
                  "3": [
                    "toyota",
                    "lexus"
                  ]
                },
                {
                  "0": "Amy",
                  "1": "0",
                  "2": "car",
                  "3": [
                    "BMW"
                  ]
                },
                {
                  "0": "Amy",
                  "1": "1",
                  "2": "scooter",
                  "3": [
                    "SYM"
                  ]
                }
              ],
              "schema": [
                {
                  "key": "0",
                  "name": "name",
                  "type": "string"
                },
                {
                  "key": "1",
                  "name": "pos",
                  "type": "int"
                },
                {
                  "key": "2",
                  "name": "key",
                  "type": "string"
                },
                {
                  "key": "3",
                  "name": "value",
                  "type": "ArrayType(StringType,true)"
                }
              ],
              "truncated": false
            },
            "isSummary": false,
            "language": "scala"
          },
          "persist_state": {
            "view": {
              "type": "details",
              "tableOptions": {},
              "chartOptions": {
                "chartType": "bar",
                "aggregationType": "sum",
                "categoryFieldKeys": [
                  "0"
                ],
                "seriesFieldKeys": [
                  "1"
                ],
                "isStacked": false
              }
            }
          }
        },
        "88648a9f-2c13-4be7-b86c-8a454acd7974": {
          "type": "Synapse.DataFrame",
          "sync_state": {
            "table": {
              "rows": [
                {
                  "0": "Eric",
                  "1": "0",
                  "2": "swim"
                },
                {
                  "0": "Eric",
                  "1": "1",
                  "2": "jogging"
                },
                {
                  "0": "Amy",
                  "1": "0",
                  "2": "jogging"
                }
              ],
              "schema": [
                {
                  "key": "0",
                  "name": "name",
                  "type": "string"
                },
                {
                  "key": "1",
                  "name": "pos",
                  "type": "int"
                },
                {
                  "key": "2",
                  "name": "col",
                  "type": "string"
                }
              ],
              "truncated": false
            },
            "isSummary": false,
            "language": "scala"
          },
          "persist_state": {
            "view": {
              "type": "details",
              "tableOptions": {},
              "chartOptions": {
                "chartType": "bar",
                "aggregationType": "sum",
                "categoryFieldKeys": [
                  "0"
                ],
                "seriesFieldKeys": [
                  "1"
                ],
                "isStacked": false
              }
            }
          }
        },
        "e3f52ada-92eb-448b-9084-60d14a8ad483": {
          "type": "Synapse.DataFrame",
          "sync_state": {
            "table": {
              "rows": [
                {
                  "0": "Eric",
                  "1": "0",
                  "2": "swim"
                },
                {
                  "0": "Eric",
                  "1": "1",
                  "2": "jogging"
                },
                {
                  "0": "Amy",
                  "1": "0",
                  "2": "jogging"
                },
                {
                  "0": "Alex"
                }
              ],
              "schema": [
                {
                  "key": "0",
                  "name": "name",
                  "type": "string"
                },
                {
                  "key": "1",
                  "name": "pos",
                  "type": "int"
                },
                {
                  "key": "2",
                  "name": "col",
                  "type": "string"
                }
              ],
              "truncated": false
            },
            "isSummary": false,
            "language": "scala"
          },
          "persist_state": {
            "view": {
              "type": "details",
              "tableOptions": {},
              "chartOptions": {
                "chartType": "bar",
                "aggregationType": "sum",
                "categoryFieldKeys": [
                  "0"
                ],
                "seriesFieldKeys": [
                  "1"
                ],
                "isStacked": false
              }
            }
          }
        },
        "b9cbe48c-56e1-41bf-b288-63f05d024ce7": {
          "type": "Synapse.DataFrame",
          "sync_state": {
            "table": {
              "rows": [
                {
                  "0": "Eric",
                  "1": "0",
                  "2": "car",
                  "3": [
                    "toyota",
                    "lexus"
                  ]
                },
                {
                  "0": "Amy",
                  "1": "0",
                  "2": "car",
                  "3": [
                    "BMW"
                  ]
                },
                {
                  "0": "Amy",
                  "1": "1",
                  "2": "scooter",
                  "3": [
                    "SYM"
                  ]
                },
                {
                  "0": "Alex"
                }
              ],
              "schema": [
                {
                  "key": "0",
                  "name": "name",
                  "type": "string"
                },
                {
                  "key": "1",
                  "name": "pos",
                  "type": "int"
                },
                {
                  "key": "2",
                  "name": "key",
                  "type": "string"
                },
                {
                  "key": "3",
                  "name": "value",
                  "type": "ArrayType(StringType,true)"
                }
              ],
              "truncated": false
            },
            "isSummary": false,
            "language": "scala"
          },
          "persist_state": {
            "view": {
              "type": "details",
              "tableOptions": {},
              "chartOptions": {
                "chartType": "bar",
                "aggregationType": "sum",
                "categoryFieldKeys": [
                  "0"
                ],
                "seriesFieldKeys": [
                  "1"
                ],
                "isStacked": false
              }
            }
          }
        }
      }
    }
  },
  "cells": [
    {
      "cell_type": "markdown",
      "metadata": {
        "nteract": {
          "transient": {
            "deleting": false
          }
        }
      },
      "source": [
        "# **Explode() function in pyspark**\r\n",
        "###### pyspark adopts parallel nomenclature with pandas package in \"explode\" function\r\n",
        "###### explode function exclusively applys on MapType or ArrayType, and unnest applied row contents in usage\r\n",
        "###### There are four related function of \"explode\"\r\n",
        "1. explode\r\n",
        "2. explode_outer\r\n",
        "3. posexplode\r\n",
        "4. posexplode_outer\r\n",
        "\r\n",
        "###### Each funciont will be explained below\r\n",
        "\r\n",
        "\r\n",
        ""
      ]
    },
    {
      "cell_type": "code",
      "execution_count": 34,
      "outputs": [
        {
          "output_type": "display_data",
          "data": {
            "application/vnd.livy.statement-meta+json": {
              "spark_pool": "sparkcluster01",
              "session_id": "9809",
              "statement_id": 35,
              "state": "finished",
              "livy_statement_state": "available",
              "queued_time": "2022-09-06T08:03:29.8731095Z",
              "session_start_time": null,
              "execution_start_time": "2022-09-06T08:03:30.0196536Z",
              "execution_finish_time": "2022-09-06T08:03:30.1718257Z",
              "spark_jobs": null
            },
            "text/plain": "StatementMeta(sparkcluster01, 9809, 35, Finished, Available)"
          },
          "metadata": {}
        }
      ],
      "metadata": {
        "jupyter": {
          "source_hidden": false,
          "outputs_hidden": true
        },
        "nteract": {
          "transient": {
            "deleting": false
          }
        }
      },
      "source": [
        "# prepare dataframes\r\n",
        "from pyspark.sql.types import *\r\n",
        "from pyspark.sql.types import *\r\n",
        "df = spark.createDataFrame(\r\n",
        "    [\r\n",
        "        ('Eric',['swim','jogging'],{'car':['toyota','lexus']}),\r\n",
        "        ('Amy',['jogging'],{'car':['BMW'],'scooter':['SYM']}),\r\n",
        "        ('Alex',[],{}),\r\n",
        "    ],\r\n",
        "    StructType([StructField(\"name\", StringType(), True), \r\n",
        "                StructField(\"interest\", ArrayType(StringType()), True), \r\n",
        "                StructField(\"car_property\", MapType(StringType(),ArrayType(StringType())), True)])\r\n",
        ")\r\n",
        ""
      ]
    },
    {
      "cell_type": "code",
      "execution_count": 35,
      "outputs": [
        {
          "output_type": "display_data",
          "data": {
            "application/vnd.livy.statement-meta+json": {
              "spark_pool": "sparkcluster01",
              "session_id": "9809",
              "statement_id": 36,
              "state": "finished",
              "livy_statement_state": "available",
              "queued_time": "2022-09-06T08:03:30.4934407Z",
              "session_start_time": null,
              "execution_start_time": "2022-09-06T08:03:30.5830989Z",
              "execution_finish_time": "2022-09-06T08:03:31.0936146Z",
              "spark_jobs": null
            },
            "text/plain": "StatementMeta(sparkcluster01, 9809, 36, Finished, Available)"
          },
          "metadata": {}
        },
        {
          "output_type": "display_data",
          "data": {
            "application/vnd.synapse.widget-view+json": {
              "widget_id": "d6b681ec-b64e-4f3e-86be-383b9f59f7e0",
              "widget_type": "Synapse.DataFrame"
            },
            "text/plain": "SynapseWidget(Synapse.DataFrame, d6b681ec-b64e-4f3e-86be-383b9f59f7e0)"
          },
          "metadata": {}
        }
      ],
      "metadata": {
        "jupyter": {
          "source_hidden": false,
          "outputs_hidden": false
        },
        "nteract": {
          "transient": {
            "deleting": false
          }
        },
        "collapsed": false
      },
      "source": [
        "from pyspark.sql.functions import explode , explode_outer, posexplode, posexplode_outer\r\n",
        "display(df)"
      ]
    },
    {
      "cell_type": "markdown",
      "metadata": {
        "nteract": {
          "transient": {
            "deleting": false
          }
        }
      },
      "source": [
        "## explode function can only use in single 'select' clause\r\n",
        "- Apply on ArrayType: The value in single rows will split into different rows after \"explode\"\r\n",
        "- Apply on MapType:   The key values pair in single rows will split into different columns after \"explode\""
      ]
    },
    {
      "cell_type": "code",
      "execution_count": 36,
      "outputs": [
        {
          "output_type": "display_data",
          "data": {
            "application/vnd.livy.statement-meta+json": {
              "spark_pool": "sparkcluster01",
              "session_id": "9809",
              "statement_id": 37,
              "state": "finished",
              "livy_statement_state": "available",
              "queued_time": "2022-09-06T08:03:35.519616Z",
              "session_start_time": null,
              "execution_start_time": "2022-09-06T08:03:35.6092461Z",
              "execution_finish_time": "2022-09-06T08:03:36.157244Z",
              "spark_jobs": null
            },
            "text/plain": "StatementMeta(sparkcluster01, 9809, 37, Finished, Available)"
          },
          "metadata": {}
        },
        {
          "output_type": "display_data",
          "data": {
            "application/vnd.synapse.widget-view+json": {
              "widget_id": "34c11031-69f6-4120-a9a3-eeb6ba1748b0",
              "widget_type": "Synapse.DataFrame"
            },
            "text/plain": "SynapseWidget(Synapse.DataFrame, 34c11031-69f6-4120-a9a3-eeb6ba1748b0)"
          },
          "metadata": {}
        }
      ],
      "metadata": {
        "jupyter": {
          "source_hidden": false,
          "outputs_hidden": false
        },
        "nteract": {
          "transient": {
            "deleting": false
          }
        },
        "collapsed": false
      },
      "source": [
        "display(\r\n",
        "    df.select('name', explode(df.interest))\r\n",
        "\r\n",
        ")"
      ]
    },
    {
      "cell_type": "code",
      "execution_count": 37,
      "outputs": [
        {
          "output_type": "display_data",
          "data": {
            "application/vnd.livy.statement-meta+json": {
              "spark_pool": "sparkcluster01",
              "session_id": "9809",
              "statement_id": 38,
              "state": "finished",
              "livy_statement_state": "available",
              "queued_time": "2022-09-06T08:03:41.2287931Z",
              "session_start_time": null,
              "execution_start_time": "2022-09-06T08:03:41.3555421Z",
              "execution_finish_time": "2022-09-06T08:03:41.8730703Z",
              "spark_jobs": null
            },
            "text/plain": "StatementMeta(sparkcluster01, 9809, 38, Finished, Available)"
          },
          "metadata": {}
        },
        {
          "output_type": "display_data",
          "data": {
            "application/vnd.synapse.widget-view+json": {
              "widget_id": "5700c0b2-6858-4b7a-b3f8-eab19ffc71fe",
              "widget_type": "Synapse.DataFrame"
            },
            "text/plain": "SynapseWidget(Synapse.DataFrame, 5700c0b2-6858-4b7a-b3f8-eab19ffc71fe)"
          },
          "metadata": {}
        }
      ],
      "metadata": {
        "jupyter": {
          "source_hidden": false,
          "outputs_hidden": false
        },
        "nteract": {
          "transient": {
            "deleting": false
          }
        },
        "collapsed": false
      },
      "source": [
        "display(\r\n",
        "    df.select('name', explode(df.car_property))\r\n",
        "\r\n",
        ")"
      ]
    },
    {
      "cell_type": "markdown",
      "metadata": {
        "nteract": {
          "transient": {
            "deleting": false
          }
        }
      },
      "source": [
        "## explode_outer function can keep null value which exist in the specific row"
      ]
    },
    {
      "cell_type": "code",
      "execution_count": 38,
      "outputs": [
        {
          "output_type": "display_data",
          "data": {
            "application/vnd.livy.statement-meta+json": {
              "spark_pool": "sparkcluster01",
              "session_id": "9809",
              "statement_id": 39,
              "state": "finished",
              "livy_statement_state": "available",
              "queued_time": "2022-09-06T08:03:42.2340347Z",
              "session_start_time": null,
              "execution_start_time": "2022-09-06T08:03:42.325275Z",
              "execution_finish_time": "2022-09-06T08:03:42.8696157Z",
              "spark_jobs": null
            },
            "text/plain": "StatementMeta(sparkcluster01, 9809, 39, Finished, Available)"
          },
          "metadata": {}
        },
        {
          "output_type": "display_data",
          "data": {
            "application/vnd.synapse.widget-view+json": {
              "widget_id": "acb52d4c-dcd3-4fcb-b7a6-15c3ccdc2915",
              "widget_type": "Synapse.DataFrame"
            },
            "text/plain": "SynapseWidget(Synapse.DataFrame, acb52d4c-dcd3-4fcb-b7a6-15c3ccdc2915)"
          },
          "metadata": {}
        }
      ],
      "metadata": {
        "jupyter": {
          "source_hidden": false,
          "outputs_hidden": false
        },
        "nteract": {
          "transient": {
            "deleting": false
          }
        },
        "collapsed": false
      },
      "source": [
        "display(\r\n",
        "    df.select('name', explode_outer(df.interest))\r\n",
        "\r\n",
        ")"
      ]
    },
    {
      "cell_type": "code",
      "execution_count": 39,
      "outputs": [
        {
          "output_type": "display_data",
          "data": {
            "application/vnd.livy.statement-meta+json": {
              "spark_pool": "sparkcluster01",
              "session_id": "9809",
              "statement_id": 40,
              "state": "finished",
              "livy_statement_state": "available",
              "queued_time": "2022-09-06T08:03:59.104087Z",
              "session_start_time": null,
              "execution_start_time": "2022-09-06T08:03:59.2175919Z",
              "execution_finish_time": "2022-09-06T08:03:59.7322058Z",
              "spark_jobs": null
            },
            "text/plain": "StatementMeta(sparkcluster01, 9809, 40, Finished, Available)"
          },
          "metadata": {}
        },
        {
          "output_type": "display_data",
          "data": {
            "application/vnd.synapse.widget-view+json": {
              "widget_id": "6d25bbc6-3e72-4f4d-9a75-532aa6c9af2e",
              "widget_type": "Synapse.DataFrame"
            },
            "text/plain": "SynapseWidget(Synapse.DataFrame, 6d25bbc6-3e72-4f4d-9a75-532aa6c9af2e)"
          },
          "metadata": {}
        }
      ],
      "metadata": {
        "jupyter": {
          "source_hidden": false,
          "outputs_hidden": false
        },
        "nteract": {
          "transient": {
            "deleting": false
          }
        },
        "collapsed": false
      },
      "source": [
        "display(\r\n",
        "    df.select('name', explode_outer(df.car_property))\r\n",
        "\r\n",
        ")"
      ]
    },
    {
      "cell_type": "markdown",
      "metadata": {
        "nteract": {
          "transient": {
            "deleting": false
          }
        }
      },
      "source": [
        "## Additionally, compare to simple explode function, \"posexplode_outer\" function create one another row holding the origin position of the arraytype/maptype element to new rows in column\r\n",
        ""
      ]
    },
    {
      "cell_type": "code",
      "execution_count": 43,
      "outputs": [
        {
          "output_type": "display_data",
          "data": {
            "application/vnd.livy.statement-meta+json": {
              "spark_pool": "sparkcluster01",
              "session_id": "9809",
              "statement_id": 44,
              "state": "finished",
              "livy_statement_state": "available",
              "queued_time": "2022-09-06T08:12:15.9179129Z",
              "session_start_time": null,
              "execution_start_time": "2022-09-06T08:12:16.0322267Z",
              "execution_finish_time": "2022-09-06T08:12:16.5819494Z",
              "spark_jobs": null
            },
            "text/plain": "StatementMeta(sparkcluster01, 9809, 44, Finished, Available)"
          },
          "metadata": {}
        },
        {
          "output_type": "display_data",
          "data": {
            "application/vnd.synapse.widget-view+json": {
              "widget_id": "88648a9f-2c13-4be7-b86c-8a454acd7974",
              "widget_type": "Synapse.DataFrame"
            },
            "text/plain": "SynapseWidget(Synapse.DataFrame, 88648a9f-2c13-4be7-b86c-8a454acd7974)"
          },
          "metadata": {}
        }
      ],
      "metadata": {
        "jupyter": {
          "source_hidden": false,
          "outputs_hidden": false
        },
        "nteract": {
          "transient": {
            "deleting": false
          }
        },
        "collapsed": false
      },
      "source": [
        "display(\r\n",
        "    df.select('name', posexplode(df.interest))\r\n",
        "\r\n",
        ")"
      ]
    },
    {
      "cell_type": "code",
      "execution_count": 42,
      "outputs": [
        {
          "output_type": "display_data",
          "data": {
            "application/vnd.livy.statement-meta+json": {
              "spark_pool": "sparkcluster01",
              "session_id": "9809",
              "statement_id": 43,
              "state": "finished",
              "livy_statement_state": "available",
              "queued_time": "2022-09-06T08:05:23.9614243Z",
              "session_start_time": null,
              "execution_start_time": "2022-09-06T08:05:24.0540168Z",
              "execution_finish_time": "2022-09-06T08:05:24.5459761Z",
              "spark_jobs": null
            },
            "text/plain": "StatementMeta(sparkcluster01, 9809, 43, Finished, Available)"
          },
          "metadata": {}
        },
        {
          "output_type": "display_data",
          "data": {
            "application/vnd.synapse.widget-view+json": {
              "widget_id": "e33b4518-6f2f-4f46-9b18-8f04aa8919bf",
              "widget_type": "Synapse.DataFrame"
            },
            "text/plain": "SynapseWidget(Synapse.DataFrame, e33b4518-6f2f-4f46-9b18-8f04aa8919bf)"
          },
          "metadata": {}
        }
      ],
      "metadata": {
        "jupyter": {
          "source_hidden": false,
          "outputs_hidden": false
        },
        "nteract": {
          "transient": {
            "deleting": false
          }
        },
        "collapsed": false
      },
      "source": [
        "display(\r\n",
        "    df.select('name', posexplode(df.car_property))\r\n",
        "\r\n",
        ")"
      ]
    },
    {
      "cell_type": "markdown",
      "metadata": {
        "nteract": {
          "transient": {
            "deleting": false
          }
        }
      },
      "source": [
        "## posexplode_outer function can keep null value which exist in the specific row similar to explode_outer"
      ]
    },
    {
      "cell_type": "code",
      "execution_count": 44,
      "outputs": [
        {
          "output_type": "display_data",
          "data": {
            "application/vnd.livy.statement-meta+json": {
              "spark_pool": "sparkcluster01",
              "session_id": "9809",
              "statement_id": 45,
              "state": "finished",
              "livy_statement_state": "available",
              "queued_time": "2022-09-06T08:14:21.9928202Z",
              "session_start_time": null,
              "execution_start_time": "2022-09-06T08:14:22.089065Z",
              "execution_finish_time": "2022-09-06T08:14:22.5999575Z",
              "spark_jobs": null
            },
            "text/plain": "StatementMeta(sparkcluster01, 9809, 45, Finished, Available)"
          },
          "metadata": {}
        },
        {
          "output_type": "display_data",
          "data": {
            "application/vnd.synapse.widget-view+json": {
              "widget_id": "e3f52ada-92eb-448b-9084-60d14a8ad483",
              "widget_type": "Synapse.DataFrame"
            },
            "text/plain": "SynapseWidget(Synapse.DataFrame, e3f52ada-92eb-448b-9084-60d14a8ad483)"
          },
          "metadata": {}
        }
      ],
      "metadata": {
        "jupyter": {
          "source_hidden": false,
          "outputs_hidden": false
        },
        "nteract": {
          "transient": {
            "deleting": false
          }
        },
        "collapsed": false
      },
      "source": [
        "display(\r\n",
        "    df.select('name', posexplode_outer(df.interest))\r\n",
        "\r\n",
        ")"
      ]
    },
    {
      "cell_type": "code",
      "execution_count": 45,
      "outputs": [
        {
          "output_type": "display_data",
          "data": {
            "application/vnd.livy.statement-meta+json": {
              "spark_pool": "sparkcluster01",
              "session_id": "9809",
              "statement_id": 46,
              "state": "finished",
              "livy_statement_state": "available",
              "queued_time": "2022-09-06T08:14:22.1809352Z",
              "session_start_time": null,
              "execution_start_time": "2022-09-06T08:14:22.6909291Z",
              "execution_finish_time": "2022-09-06T08:14:23.1947972Z",
              "spark_jobs": null
            },
            "text/plain": "StatementMeta(sparkcluster01, 9809, 46, Finished, Available)"
          },
          "metadata": {}
        },
        {
          "output_type": "display_data",
          "data": {
            "application/vnd.synapse.widget-view+json": {
              "widget_id": "b9cbe48c-56e1-41bf-b288-63f05d024ce7",
              "widget_type": "Synapse.DataFrame"
            },
            "text/plain": "SynapseWidget(Synapse.DataFrame, b9cbe48c-56e1-41bf-b288-63f05d024ce7)"
          },
          "metadata": {}
        }
      ],
      "metadata": {
        "jupyter": {
          "source_hidden": false,
          "outputs_hidden": false
        },
        "nteract": {
          "transient": {
            "deleting": false
          }
        },
        "collapsed": false
      },
      "source": [
        "display(\r\n",
        "    df.select('name', posexplode_outer(df.car_property))\r\n",
        "\r\n",
        ")"
      ]
    },
    {
      "cell_type": "code",
      "execution_count": null,
      "outputs": [],
      "metadata": {
        "jupyter": {
          "source_hidden": false,
          "outputs_hidden": false
        },
        "nteract": {
          "transient": {
            "deleting": false
          }
        }
      },
      "source": []
    }
  ]
}