{
  "nbformat": 4,
  "nbformat_minor": 2,
  "metadata": {
    "kernelspec": {
      "name": "synapse_pyspark",
      "display_name": "Synapse PySpark"
    },
    "language_info": {
      "name": "python"
    },
    "description": null,
    "save_output": true,
    "synapse_widget": {
      "version": "0.1",
      "state": {
        "1bd4b994-69c0-429d-9c6a-fb41f1857553": {
          "type": "Synapse.DataFrame",
          "sync_state": {
            "table": {
              "rows": [
                {
                  "0": "Eric",
                  "1": "30",
                  "2": "Male"
                },
                {
                  "0": "Amy",
                  "1": "28",
                  "2": "Female"
                },
                {
                  "0": "Lucy",
                  "1": "31",
                  "2": "Female"
                },
                {
                  "0": "Lucas",
                  "1": "32",
                  "2": "Male"
                },
                {
                  "0": "Ammie",
                  "1": "25",
                  "2": "Female"
                }
              ],
              "schema": [
                {
                  "key": "0",
                  "name": "name",
                  "type": "string"
                },
                {
                  "key": "1",
                  "name": "Age",
                  "type": "int"
                },
                {
                  "key": "2",
                  "name": "Sex",
                  "type": "string"
                }
              ],
              "truncated": false
            },
            "isSummary": false,
            "language": "scala"
          },
          "persist_state": {
            "view": {
              "type": "details",
              "tableOptions": {},
              "chartOptions": {
                "chartType": "bar",
                "aggregationType": "sum",
                "categoryFieldKeys": [
                  "0"
                ],
                "seriesFieldKeys": [
                  "1"
                ],
                "isStacked": false
              }
            }
          }
        },
        "393ada15-7828-4852-8594-5a34023345da": {
          "type": "Synapse.DataFrame",
          "sync_state": {
            "table": {
              "rows": [
                {
                  "0": "Eric",
                  "1": "32",
                  "2": "Male"
                },
                {
                  "0": "Lucy",
                  "1": "31",
                  "2": "Female"
                },
                {
                  "0": "Lucas",
                  "1": "32",
                  "2": "Male"
                },
                {
                  "0": "Judy",
                  "1": "34",
                  "2": "Female"
                },
                {
                  "0": "Ammie",
                  "1": "24",
                  "2": "Female"
                }
              ],
              "schema": [
                {
                  "key": "0",
                  "name": "name",
                  "type": "string"
                },
                {
                  "key": "1",
                  "name": "Age",
                  "type": "int"
                },
                {
                  "key": "2",
                  "name": "Sex",
                  "type": "string"
                }
              ],
              "truncated": false
            },
            "isSummary": false,
            "language": "scala"
          },
          "persist_state": {
            "view": {
              "type": "details",
              "tableOptions": {},
              "chartOptions": {
                "chartType": "bar",
                "aggregationType": "sum",
                "categoryFieldKeys": [
                  "0"
                ],
                "seriesFieldKeys": [
                  "1"
                ],
                "isStacked": false
              }
            }
          }
        },
        "95bab885-7cf2-4dc0-a8bc-8cf31ffade22": {
          "type": "Synapse.DataFrame",
          "sync_state": {
            "table": {
              "rows": [
                {
                  "0": "Lucas",
                  "1": "32",
                  "2": "Male",
                  "3": "32",
                  "4": "Male"
                },
                {
                  "0": "Eric",
                  "1": "30",
                  "2": "Male",
                  "3": "32",
                  "4": "Male"
                },
                {
                  "0": "Ammie",
                  "1": "25",
                  "2": "Female",
                  "3": "24",
                  "4": "Female"
                },
                {
                  "0": "Lucy",
                  "1": "31",
                  "2": "Female",
                  "3": "31",
                  "4": "Female"
                }
              ],
              "schema": [
                {
                  "key": "0",
                  "name": "name",
                  "type": "string"
                },
                {
                  "key": "1",
                  "name": "Age",
                  "type": "int"
                },
                {
                  "key": "2",
                  "name": "Sex",
                  "type": "string"
                },
                {
                  "key": "3",
                  "name": "Age",
                  "type": "int"
                },
                {
                  "key": "4",
                  "name": "Sex",
                  "type": "string"
                }
              ],
              "truncated": false
            },
            "isSummary": false,
            "language": "scala"
          },
          "persist_state": {
            "view": {
              "type": "details",
              "tableOptions": {},
              "chartOptions": {
                "chartType": "bar",
                "aggregationType": "sum",
                "categoryFieldKeys": [
                  "0"
                ],
                "seriesFieldKeys": [
                  "1"
                ],
                "isStacked": false
              }
            }
          }
        },
        "c8a52f7e-311a-4ae6-b3fc-c9c1c485e5c2": {
          "type": "Synapse.DataFrame",
          "sync_state": {
            "table": {
              "rows": [
                {
                  "0": "Lucas",
                  "1": "32",
                  "2": "Male",
                  "3": "32",
                  "4": "Male"
                },
                {
                  "0": "Amy",
                  "1": "28",
                  "2": "Female"
                },
                {
                  "0": "Eric",
                  "1": "30",
                  "2": "Male",
                  "3": "32",
                  "4": "Male"
                },
                {
                  "0": "Ammie",
                  "1": "25",
                  "2": "Female",
                  "3": "24",
                  "4": "Female"
                },
                {
                  "0": "Lucy",
                  "1": "31",
                  "2": "Female",
                  "3": "31",
                  "4": "Female"
                }
              ],
              "schema": [
                {
                  "key": "0",
                  "name": "name",
                  "type": "string"
                },
                {
                  "key": "1",
                  "name": "Age",
                  "type": "int"
                },
                {
                  "key": "2",
                  "name": "Sex",
                  "type": "string"
                },
                {
                  "key": "3",
                  "name": "Age",
                  "type": "int"
                },
                {
                  "key": "4",
                  "name": "Sex",
                  "type": "string"
                }
              ],
              "truncated": false
            },
            "isSummary": false,
            "language": "scala"
          },
          "persist_state": {
            "view": {
              "type": "details",
              "tableOptions": {},
              "chartOptions": {
                "chartType": "bar",
                "aggregationType": "sum",
                "categoryFieldKeys": [
                  "0"
                ],
                "seriesFieldKeys": [
                  "1"
                ],
                "isStacked": false
              }
            }
          }
        },
        "80559231-af68-4212-aa00-c782cf43f7e9": {
          "type": "Synapse.DataFrame",
          "sync_state": {
            "table": {
              "rows": [
                {
                  "0": "Lucas",
                  "1": "32",
                  "2": "Male",
                  "3": "32",
                  "4": "Male"
                },
                {
                  "0": "Eric",
                  "1": "30",
                  "2": "Male",
                  "3": "32",
                  "4": "Male"
                },
                {
                  "0": "Judy",
                  "3": "34",
                  "4": "Female"
                },
                {
                  "0": "Ammie",
                  "1": "25",
                  "2": "Female",
                  "3": "24",
                  "4": "Female"
                },
                {
                  "0": "Lucy",
                  "1": "31",
                  "2": "Female",
                  "3": "31",
                  "4": "Female"
                }
              ],
              "schema": [
                {
                  "key": "0",
                  "name": "name",
                  "type": "string"
                },
                {
                  "key": "1",
                  "name": "Age",
                  "type": "int"
                },
                {
                  "key": "2",
                  "name": "Sex",
                  "type": "string"
                },
                {
                  "key": "3",
                  "name": "Age",
                  "type": "int"
                },
                {
                  "key": "4",
                  "name": "Sex",
                  "type": "string"
                }
              ],
              "truncated": false
            },
            "isSummary": false,
            "language": "scala"
          },
          "persist_state": {
            "view": {
              "type": "details",
              "tableOptions": {},
              "chartOptions": {
                "chartType": "bar",
                "aggregationType": "sum",
                "categoryFieldKeys": [
                  "0"
                ],
                "seriesFieldKeys": [
                  "1"
                ],
                "isStacked": false
              }
            }
          }
        },
        "7fc13d30-8732-43be-ab4d-2649fd0cbfa1": {
          "type": "Synapse.DataFrame",
          "sync_state": {
            "table": {
              "rows": [
                {
                  "0": "Lucas",
                  "1": "32",
                  "2": "Male",
                  "3": "32",
                  "4": "Male"
                },
                {
                  "0": "Amy",
                  "1": "28",
                  "2": "Female"
                },
                {
                  "0": "Eric",
                  "1": "30",
                  "2": "Male",
                  "3": "32",
                  "4": "Male"
                },
                {
                  "0": "Ammie",
                  "1": "25",
                  "2": "Female",
                  "3": "24",
                  "4": "Female"
                },
                {
                  "0": "Lucy",
                  "1": "31",
                  "2": "Female",
                  "3": "31",
                  "4": "Female"
                }
              ],
              "schema": [
                {
                  "key": "0",
                  "name": "name",
                  "type": "string"
                },
                {
                  "key": "1",
                  "name": "Age",
                  "type": "int"
                },
                {
                  "key": "2",
                  "name": "Sex",
                  "type": "string"
                },
                {
                  "key": "3",
                  "name": "Age",
                  "type": "int"
                },
                {
                  "key": "4",
                  "name": "Sex",
                  "type": "string"
                }
              ],
              "truncated": false
            },
            "isSummary": false,
            "language": "scala"
          },
          "persist_state": {
            "view": {
              "type": "details",
              "tableOptions": {},
              "chartOptions": {
                "chartType": "bar",
                "aggregationType": "sum",
                "categoryFieldKeys": [
                  "0"
                ],
                "seriesFieldKeys": [
                  "1"
                ],
                "isStacked": false
              }
            }
          }
        },
        "9fd7ef69-e8e3-4299-a2b4-eb745f6ee135": {
          "type": "Synapse.DataFrame",
          "sync_state": {
            "table": {
              "rows": [
                {
                  "0": "Lucas",
                  "1": "32",
                  "2": "Male",
                  "3": "32",
                  "4": "Male"
                },
                {
                  "0": "Amy",
                  "1": "28",
                  "2": "Female"
                },
                {
                  "0": "Eric",
                  "1": "30",
                  "2": "Male",
                  "3": "32",
                  "4": "Male"
                },
                {
                  "0": "Judy",
                  "3": "34",
                  "4": "Female"
                },
                {
                  "0": "Ammie",
                  "1": "25",
                  "2": "Female",
                  "3": "24",
                  "4": "Female"
                },
                {
                  "0": "Lucy",
                  "1": "31",
                  "2": "Female",
                  "3": "31",
                  "4": "Female"
                }
              ],
              "schema": [
                {
                  "key": "0",
                  "name": "name",
                  "type": "string"
                },
                {
                  "key": "1",
                  "name": "Age",
                  "type": "int"
                },
                {
                  "key": "2",
                  "name": "Sex",
                  "type": "string"
                },
                {
                  "key": "3",
                  "name": "Age",
                  "type": "int"
                },
                {
                  "key": "4",
                  "name": "Sex",
                  "type": "string"
                }
              ],
              "truncated": false
            },
            "isSummary": false,
            "language": "scala"
          },
          "persist_state": {
            "view": {
              "type": "details",
              "tableOptions": {},
              "chartOptions": {
                "chartType": "bar",
                "aggregationType": "sum",
                "categoryFieldKeys": [
                  "0"
                ],
                "seriesFieldKeys": [
                  "1"
                ],
                "isStacked": false
              }
            }
          }
        },
        "52826d78-7fb8-4ce6-858f-e244763f324b": {
          "type": "Synapse.DataFrame",
          "sync_state": {
            "table": {
              "rows": [
                {
                  "0": "Lucas",
                  "1": "32",
                  "2": "Male",
                  "3": "32",
                  "4": "Male"
                },
                {
                  "0": "Eric",
                  "1": "30",
                  "2": "Male",
                  "3": "32",
                  "4": "Male"
                },
                {
                  "0": "Judy",
                  "3": "34",
                  "4": "Female"
                },
                {
                  "0": "Ammie",
                  "1": "25",
                  "2": "Female",
                  "3": "24",
                  "4": "Female"
                },
                {
                  "0": "Lucy",
                  "1": "31",
                  "2": "Female",
                  "3": "31",
                  "4": "Female"
                }
              ],
              "schema": [
                {
                  "key": "0",
                  "name": "name",
                  "type": "string"
                },
                {
                  "key": "1",
                  "name": "Age",
                  "type": "int"
                },
                {
                  "key": "2",
                  "name": "Sex",
                  "type": "string"
                },
                {
                  "key": "3",
                  "name": "Age",
                  "type": "int"
                },
                {
                  "key": "4",
                  "name": "Sex",
                  "type": "string"
                }
              ],
              "truncated": false
            },
            "isSummary": false,
            "language": "scala"
          },
          "persist_state": {
            "view": {
              "type": "details",
              "tableOptions": {},
              "chartOptions": {
                "chartType": "bar",
                "aggregationType": "sum",
                "categoryFieldKeys": [
                  "0"
                ],
                "seriesFieldKeys": [
                  "1"
                ],
                "isStacked": false
              }
            }
          }
        },
        "54765e89-f480-416f-a2e3-cd1d999eb975": {
          "type": "Synapse.DataFrame",
          "sync_state": {
            "table": {
              "rows": [
                {
                  "0": "Lucas",
                  "1": "32",
                  "2": "Male"
                },
                {
                  "0": "Eric",
                  "1": "30",
                  "2": "Male"
                },
                {
                  "0": "Ammie",
                  "1": "25",
                  "2": "Female"
                },
                {
                  "0": "Lucy",
                  "1": "31",
                  "2": "Female"
                }
              ],
              "schema": [
                {
                  "key": "0",
                  "name": "name",
                  "type": "string"
                },
                {
                  "key": "1",
                  "name": "Age",
                  "type": "int"
                },
                {
                  "key": "2",
                  "name": "Sex",
                  "type": "string"
                }
              ],
              "truncated": false
            },
            "isSummary": false,
            "language": "scala"
          },
          "persist_state": {
            "view": {
              "type": "details",
              "tableOptions": {},
              "chartOptions": {
                "chartType": "bar",
                "aggregationType": "sum",
                "categoryFieldKeys": [
                  "0"
                ],
                "seriesFieldKeys": [
                  "1"
                ],
                "isStacked": false
              }
            }
          }
        },
        "e43c3a0b-ebaa-4181-8859-7e2f9b9f406a": {
          "type": "Synapse.DataFrame",
          "sync_state": {
            "table": {
              "rows": [
                {
                  "0": "Amy",
                  "1": "28",
                  "2": "Female"
                }
              ],
              "schema": [
                {
                  "key": "0",
                  "name": "name",
                  "type": "string"
                },
                {
                  "key": "1",
                  "name": "Age",
                  "type": "int"
                },
                {
                  "key": "2",
                  "name": "Sex",
                  "type": "string"
                }
              ],
              "truncated": false
            },
            "isSummary": false,
            "language": "scala"
          },
          "persist_state": {
            "view": {
              "type": "details",
              "tableOptions": {},
              "chartOptions": {
                "chartType": "bar",
                "aggregationType": "sum",
                "categoryFieldKeys": [
                  "0"
                ],
                "seriesFieldKeys": [
                  "1"
                ],
                "isStacked": false
              }
            }
          }
        },
        "8866492b-e81c-4231-bdea-1b2e70c9608a": {
          "type": "Synapse.DataFrame",
          "sync_state": {
            "table": {
              "rows": [
                {
                  "0": "Eric",
                  "1": "30",
                  "2": "Male",
                  "3": "Eric",
                  "4": "32",
                  "5": "Male"
                },
                {
                  "0": "Eric",
                  "1": "30",
                  "2": "Male",
                  "3": "Lucy",
                  "4": "31",
                  "5": "Female"
                },
                {
                  "0": "Eric",
                  "1": "30",
                  "2": "Male",
                  "3": "Lucas",
                  "4": "32",
                  "5": "Male"
                },
                {
                  "0": "Eric",
                  "1": "30",
                  "2": "Male",
                  "3": "Judy",
                  "4": "34",
                  "5": "Female"
                },
                {
                  "0": "Eric",
                  "1": "30",
                  "2": "Male",
                  "3": "Ammie",
                  "4": "24",
                  "5": "Female"
                },
                {
                  "0": "Amy",
                  "1": "28",
                  "2": "Female",
                  "3": "Eric",
                  "4": "32",
                  "5": "Male"
                },
                {
                  "0": "Amy",
                  "1": "28",
                  "2": "Female",
                  "3": "Lucy",
                  "4": "31",
                  "5": "Female"
                },
                {
                  "0": "Amy",
                  "1": "28",
                  "2": "Female",
                  "3": "Lucas",
                  "4": "32",
                  "5": "Male"
                },
                {
                  "0": "Amy",
                  "1": "28",
                  "2": "Female",
                  "3": "Judy",
                  "4": "34",
                  "5": "Female"
                },
                {
                  "0": "Amy",
                  "1": "28",
                  "2": "Female",
                  "3": "Ammie",
                  "4": "24",
                  "5": "Female"
                },
                {
                  "0": "Lucy",
                  "1": "31",
                  "2": "Female",
                  "3": "Eric",
                  "4": "32",
                  "5": "Male"
                },
                {
                  "0": "Lucy",
                  "1": "31",
                  "2": "Female",
                  "3": "Lucy",
                  "4": "31",
                  "5": "Female"
                },
                {
                  "0": "Lucy",
                  "1": "31",
                  "2": "Female",
                  "3": "Lucas",
                  "4": "32",
                  "5": "Male"
                },
                {
                  "0": "Lucy",
                  "1": "31",
                  "2": "Female",
                  "3": "Judy",
                  "4": "34",
                  "5": "Female"
                },
                {
                  "0": "Lucy",
                  "1": "31",
                  "2": "Female",
                  "3": "Ammie",
                  "4": "24",
                  "5": "Female"
                },
                {
                  "0": "Lucas",
                  "1": "32",
                  "2": "Male",
                  "3": "Eric",
                  "4": "32",
                  "5": "Male"
                },
                {
                  "0": "Lucas",
                  "1": "32",
                  "2": "Male",
                  "3": "Lucy",
                  "4": "31",
                  "5": "Female"
                },
                {
                  "0": "Lucas",
                  "1": "32",
                  "2": "Male",
                  "3": "Lucas",
                  "4": "32",
                  "5": "Male"
                },
                {
                  "0": "Lucas",
                  "1": "32",
                  "2": "Male",
                  "3": "Judy",
                  "4": "34",
                  "5": "Female"
                },
                {
                  "0": "Lucas",
                  "1": "32",
                  "2": "Male",
                  "3": "Ammie",
                  "4": "24",
                  "5": "Female"
                },
                {
                  "0": "Ammie",
                  "1": "25",
                  "2": "Female",
                  "3": "Eric",
                  "4": "32",
                  "5": "Male"
                },
                {
                  "0": "Ammie",
                  "1": "25",
                  "2": "Female",
                  "3": "Lucy",
                  "4": "31",
                  "5": "Female"
                },
                {
                  "0": "Ammie",
                  "1": "25",
                  "2": "Female",
                  "3": "Lucas",
                  "4": "32",
                  "5": "Male"
                },
                {
                  "0": "Ammie",
                  "1": "25",
                  "2": "Female",
                  "3": "Judy",
                  "4": "34",
                  "5": "Female"
                },
                {
                  "0": "Ammie",
                  "1": "25",
                  "2": "Female",
                  "3": "Ammie",
                  "4": "24",
                  "5": "Female"
                }
              ],
              "schema": [
                {
                  "key": "0",
                  "name": "name",
                  "type": "string"
                },
                {
                  "key": "1",
                  "name": "Age",
                  "type": "int"
                },
                {
                  "key": "2",
                  "name": "Sex",
                  "type": "string"
                },
                {
                  "key": "3",
                  "name": "name",
                  "type": "string"
                },
                {
                  "key": "4",
                  "name": "Age",
                  "type": "int"
                },
                {
                  "key": "5",
                  "name": "Sex",
                  "type": "string"
                }
              ],
              "truncated": false
            },
            "isSummary": false,
            "language": "scala"
          },
          "persist_state": {
            "view": {
              "type": "details",
              "tableOptions": {},
              "chartOptions": {
                "chartType": "bar",
                "aggregationType": "sum",
                "categoryFieldKeys": [
                  "0"
                ],
                "seriesFieldKeys": [
                  "1"
                ],
                "isStacked": false
              }
            }
          }
        },
        "c6c71ed1-ace5-425a-b962-794523d7e66f": {
          "type": "Synapse.DataFrame",
          "sync_state": {
            "table": {
              "rows": [
                {
                  "0": "Amy",
                  "1": "28",
                  "2": "Female"
                },
                {
                  "0": "Ammie",
                  "1": "25",
                  "2": "Female"
                },
                {
                  "0": "Eric",
                  "1": "30",
                  "2": "Male"
                }
              ],
              "schema": [
                {
                  "key": "0",
                  "name": "name",
                  "type": "string"
                },
                {
                  "key": "1",
                  "name": "Age",
                  "type": "int"
                },
                {
                  "key": "2",
                  "name": "Sex",
                  "type": "string"
                }
              ],
              "truncated": false
            },
            "isSummary": false,
            "language": "scala"
          },
          "persist_state": {
            "view": {
              "type": "details",
              "tableOptions": {},
              "chartOptions": {
                "chartType": "bar",
                "aggregationType": "sum",
                "categoryFieldKeys": [
                  "0"
                ],
                "seriesFieldKeys": [
                  "1"
                ],
                "isStacked": false
              }
            }
          }
        }
      }
    }
  },
  "cells": [
    {
      "cell_type": "markdown",
      "metadata": {
        "nteract": {
          "transient": {
            "deleting": false
          }
        }
      },
      "source": [
        "# **Join() function in pyspark**\r\n",
        "###### Join function is a SQL-like function in spark dialect, designed to merge or join two dataframe by function-base design interface. \r\n",
        "###### The arguments in which the function set up initially are requied for retrieving different join/merge logic from respective dataframe. \r\n",
        "###### These argument can be mainly distinguished by subtle differences into four types:\r\n",
        "1. inner/left/right\r\n",
        "2. outer - leftouter, rightouter, fullouter\r\n",
        "3. semi/anti -leftsemi, leftanti\r\n",
        "4. cross\r\n",
        "\r\n",
        "###### Each type will be explained below\r\n",
        "\r\n",
        "\r\n",
        ""
      ]
    },
    {
      "cell_type": "code",
      "execution_count": 49,
      "outputs": [
        {
          "output_type": "display_data",
          "data": {
            "application/vnd.livy.statement-meta+json": {
              "spark_pool": "sparkcluster01",
              "session_id": "9619",
              "statement_id": 2,
              "state": "finished",
              "livy_statement_state": "available",
              "queued_time": "2022-09-05T05:44:34.770057Z",
              "session_start_time": "2022-09-05T05:44:34.8024903Z",
              "execution_start_time": "2022-09-05T05:48:49.4256748Z",
              "execution_finish_time": "2022-09-05T05:48:54.7435143Z",
              "spark_jobs": null
            },
            "text/plain": "StatementMeta(sparkcluster01, 9619, 2, Finished, Available)"
          },
          "metadata": {}
        }
      ],
      "metadata": {
        "jupyter": {
          "source_hidden": true,
          "outputs_hidden": false
        },
        "nteract": {
          "transient": {
            "deleting": false
          }
        }
      },
      "source": [
        "# prepare dataframes\r\n",
        "from pyspark.sql.types import *\r\n",
        "from pyspark.sql.types import StructField, StructType, IntegerType, StringType\r\n",
        "df1 = spark.createDataFrame(\r\n",
        "    [\r\n",
        "        ('Eric',30,'Male'),\r\n",
        "        ('Amy',28,'Female'),\r\n",
        "        ('Lucy',31,'Female'),\r\n",
        "        ('Lucas',32,'Male'),\r\n",
        "        ('Ammie',25,'Female'),\r\n",
        "    ],\r\n",
        "    StructType([StructField(\"name\", StringType(), True), StructField(\"Age\", IntegerType(), True), StructField(\"Sex\", StringType(), True)])\r\n",
        ")\r\n",
        "df2 = spark.createDataFrame(\r\n",
        "    [\r\n",
        "        ('Eric',32,'Male'),\r\n",
        "        ('Lucy',31,'Female'),\r\n",
        "        ('Lucas',32,'Male'),\r\n",
        "        ('Judy',34,'Female'),\r\n",
        "        ('Ammie',24,'Female'),\r\n",
        "    ],\r\n",
        "    StructType([StructField(\"name\", StringType(), True), StructField(\"Age\", IntegerType(), True), StructField(\"Sex\", StringType(), True)])\r\n",
        ")\r\n",
        ""
      ]
    },
    {
      "cell_type": "code",
      "execution_count": 50,
      "outputs": [
        {
          "output_type": "display_data",
          "data": {
            "application/vnd.livy.statement-meta+json": {
              "spark_pool": "sparkcluster01",
              "session_id": "9619",
              "statement_id": 3,
              "state": "finished",
              "livy_statement_state": "available",
              "queued_time": "2022-09-05T05:52:57.1149685Z",
              "session_start_time": null,
              "execution_start_time": "2022-09-05T05:52:57.2704169Z",
              "execution_finish_time": "2022-09-05T05:53:20.2649443Z",
              "spark_jobs": null
            },
            "text/plain": "StatementMeta(sparkcluster01, 9619, 3, Finished, Available)"
          },
          "metadata": {}
        },
        {
          "output_type": "display_data",
          "data": {
            "application/vnd.synapse.widget-view+json": {
              "widget_id": "1bd4b994-69c0-429d-9c6a-fb41f1857553",
              "widget_type": "Synapse.DataFrame"
            },
            "text/plain": "SynapseWidget(Synapse.DataFrame, 1bd4b994-69c0-429d-9c6a-fb41f1857553)"
          },
          "metadata": {}
        }
      ],
      "metadata": {
        "jupyter": {
          "source_hidden": false,
          "outputs_hidden": false
        },
        "nteract": {
          "transient": {
            "deleting": false
          }
        },
        "collapsed": false
      },
      "source": [
        "display(df1)"
      ]
    },
    {
      "cell_type": "code",
      "execution_count": 51,
      "outputs": [
        {
          "output_type": "display_data",
          "data": {
            "application/vnd.livy.statement-meta+json": {
              "spark_pool": "sparkcluster01",
              "session_id": "9619",
              "statement_id": 4,
              "state": "finished",
              "livy_statement_state": "available",
              "queued_time": "2022-09-05T05:52:57.8258153Z",
              "session_start_time": null,
              "execution_start_time": "2022-09-05T05:53:20.364828Z",
              "execution_finish_time": "2022-09-05T05:53:21.4441933Z",
              "spark_jobs": null
            },
            "text/plain": "StatementMeta(sparkcluster01, 9619, 4, Finished, Available)"
          },
          "metadata": {}
        },
        {
          "output_type": "display_data",
          "data": {
            "application/vnd.synapse.widget-view+json": {
              "widget_id": "393ada15-7828-4852-8594-5a34023345da",
              "widget_type": "Synapse.DataFrame"
            },
            "text/plain": "SynapseWidget(Synapse.DataFrame, 393ada15-7828-4852-8594-5a34023345da)"
          },
          "metadata": {}
        }
      ],
      "metadata": {
        "jupyter": {
          "source_hidden": false,
          "outputs_hidden": false
        },
        "nteract": {
          "transient": {
            "deleting": false
          }
        },
        "collapsed": false
      },
      "source": [
        "display(df2)"
      ]
    },
    {
      "cell_type": "markdown",
      "metadata": {
        "nteract": {
          "transient": {
            "deleting": false
          }
        }
      },
      "source": [
        "## inner / left/ right\r\n",
        "## [retrieve both dataframe datas]\r\n",
        "- \"inner\" is simplest and default type of spark join function, inner join returns the result rows when matching column condition is met \r\n",
        "- \"left\" join returns the result rows when matching column condition(s) is met and exist in left table only\r\n",
        "- \"right\" join returns the result rows when matching column condition(s) is met and exist in right table only"
      ]
    },
    {
      "cell_type": "code",
      "execution_count": 52,
      "outputs": [
        {
          "output_type": "display_data",
          "data": {
            "application/vnd.livy.statement-meta+json": {
              "spark_pool": "sparkcluster01",
              "session_id": "9619",
              "statement_id": 5,
              "state": "finished",
              "livy_statement_state": "available",
              "queued_time": "2022-09-05T05:52:59.0635456Z",
              "session_start_time": null,
              "execution_start_time": "2022-09-05T05:53:21.5627114Z",
              "execution_finish_time": "2022-09-05T05:53:30.7652136Z",
              "spark_jobs": null
            },
            "text/plain": "StatementMeta(sparkcluster01, 9619, 5, Finished, Available)"
          },
          "metadata": {}
        },
        {
          "output_type": "display_data",
          "data": {
            "application/vnd.synapse.widget-view+json": {
              "widget_id": "95bab885-7cf2-4dc0-a8bc-8cf31ffade22",
              "widget_type": "Synapse.DataFrame"
            },
            "text/plain": "SynapseWidget(Synapse.DataFrame, 95bab885-7cf2-4dc0-a8bc-8cf31ffade22)"
          },
          "metadata": {}
        }
      ],
      "metadata": {
        "jupyter": {
          "source_hidden": false,
          "outputs_hidden": false
        },
        "nteract": {
          "transient": {
            "deleting": false
          }
        },
        "collapsed": false
      },
      "source": [
        "display(\r\n",
        "    df1.join(df2,'name','inner')\r\n",
        ")"
      ]
    },
    {
      "cell_type": "code",
      "execution_count": 53,
      "outputs": [
        {
          "output_type": "display_data",
          "data": {
            "application/vnd.livy.statement-meta+json": {
              "spark_pool": "sparkcluster01",
              "session_id": "9619",
              "statement_id": 6,
              "state": "finished",
              "livy_statement_state": "available",
              "queued_time": "2022-09-05T05:52:59.6089497Z",
              "session_start_time": null,
              "execution_start_time": "2022-09-05T05:53:30.8781146Z",
              "execution_finish_time": "2022-09-05T05:53:34.813593Z",
              "spark_jobs": null
            },
            "text/plain": "StatementMeta(sparkcluster01, 9619, 6, Finished, Available)"
          },
          "metadata": {}
        },
        {
          "output_type": "display_data",
          "data": {
            "application/vnd.synapse.widget-view+json": {
              "widget_id": "c8a52f7e-311a-4ae6-b3fc-c9c1c485e5c2",
              "widget_type": "Synapse.DataFrame"
            },
            "text/plain": "SynapseWidget(Synapse.DataFrame, c8a52f7e-311a-4ae6-b3fc-c9c1c485e5c2)"
          },
          "metadata": {}
        }
      ],
      "metadata": {
        "jupyter": {
          "source_hidden": false,
          "outputs_hidden": false
        },
        "nteract": {
          "transient": {
            "deleting": false
          }
        },
        "collapsed": false
      },
      "source": [
        "display(\r\n",
        "    df1.join(df2,'name','left')\r\n",
        ")"
      ]
    },
    {
      "cell_type": "code",
      "execution_count": 55,
      "outputs": [
        {
          "output_type": "display_data",
          "data": {
            "application/vnd.livy.statement-meta+json": {
              "spark_pool": "sparkcluster01",
              "session_id": "9619",
              "statement_id": 8,
              "state": "finished",
              "livy_statement_state": "available",
              "queued_time": "2022-09-05T05:53:13.1133188Z",
              "session_start_time": null,
              "execution_start_time": "2022-09-05T05:53:39.0400717Z",
              "execution_finish_time": "2022-09-05T05:53:41.824207Z",
              "spark_jobs": null
            },
            "text/plain": "StatementMeta(sparkcluster01, 9619, 8, Finished, Available)"
          },
          "metadata": {}
        },
        {
          "output_type": "display_data",
          "data": {
            "application/vnd.synapse.widget-view+json": {
              "widget_id": "80559231-af68-4212-aa00-c782cf43f7e9",
              "widget_type": "Synapse.DataFrame"
            },
            "text/plain": "SynapseWidget(Synapse.DataFrame, 80559231-af68-4212-aa00-c782cf43f7e9)"
          },
          "metadata": {}
        }
      ],
      "metadata": {
        "jupyter": {
          "source_hidden": false,
          "outputs_hidden": false
        },
        "nteract": {
          "transient": {
            "deleting": false
          }
        },
        "collapsed": false
      },
      "source": [
        "#outer 預設為fullouter\r\n",
        "display(\r\n",
        "    df1.join(df2,'name','right')\r\n",
        "\r\n",
        ")"
      ]
    },
    {
      "cell_type": "markdown",
      "metadata": {
        "nteract": {
          "transient": {
            "deleting": false
          }
        }
      },
      "source": [
        "## leftouter / rightouter/ fullouter\r\n",
        "## [retrieve both dataframe datas]\r\n",
        "- \"leftouter\" join is equivalent to 'left' join\r\n",
        "- \"rightouter\" join is equivalent to 'right' join\r\n",
        "- \"fullouter\" or \"outer\" join in pyspark combines the results of both left and right outer joins. The joined table will contain all records from both the tables"
      ]
    },
    {
      "cell_type": "code",
      "execution_count": 58,
      "outputs": [
        {
          "output_type": "display_data",
          "data": {
            "application/vnd.livy.statement-meta+json": {
              "spark_pool": "sparkcluster01",
              "session_id": "9619",
              "statement_id": 11,
              "state": "finished",
              "livy_statement_state": "available",
              "queued_time": "2022-09-05T06:09:02.685892Z",
              "session_start_time": null,
              "execution_start_time": "2022-09-05T06:09:02.8430805Z",
              "execution_finish_time": "2022-09-05T06:09:05.8190757Z",
              "spark_jobs": null
            },
            "text/plain": "StatementMeta(sparkcluster01, 9619, 11, Finished, Available)"
          },
          "metadata": {}
        },
        {
          "output_type": "display_data",
          "data": {
            "application/vnd.synapse.widget-view+json": {
              "widget_id": "9fd7ef69-e8e3-4299-a2b4-eb745f6ee135",
              "widget_type": "Synapse.DataFrame"
            },
            "text/plain": "SynapseWidget(Synapse.DataFrame, 9fd7ef69-e8e3-4299-a2b4-eb745f6ee135)"
          },
          "metadata": {}
        }
      ],
      "metadata": {
        "jupyter": {
          "source_hidden": false,
          "outputs_hidden": false
        },
        "nteract": {
          "transient": {
            "deleting": false
          }
        },
        "collapsed": false
      },
      "source": [
        "display(\r\n",
        "    df1.join(df2,'name','outer')\r\n",
        ")"
      ]
    },
    {
      "cell_type": "code",
      "execution_count": 56,
      "outputs": [
        {
          "output_type": "display_data",
          "data": {
            "application/vnd.livy.statement-meta+json": {
              "spark_pool": "sparkcluster01",
              "session_id": "9619",
              "statement_id": 9,
              "state": "finished",
              "livy_statement_state": "available",
              "queued_time": "2022-09-05T06:04:23.6629658Z",
              "session_start_time": null,
              "execution_start_time": "2022-09-05T06:04:23.8449096Z",
              "execution_finish_time": "2022-09-05T06:04:26.6356589Z",
              "spark_jobs": null
            },
            "text/plain": "StatementMeta(sparkcluster01, 9619, 9, Finished, Available)"
          },
          "metadata": {}
        },
        {
          "output_type": "display_data",
          "data": {
            "application/vnd.synapse.widget-view+json": {
              "widget_id": "7fc13d30-8732-43be-ab4d-2649fd0cbfa1",
              "widget_type": "Synapse.DataFrame"
            },
            "text/plain": "SynapseWidget(Synapse.DataFrame, 7fc13d30-8732-43be-ab4d-2649fd0cbfa1)"
          },
          "metadata": {}
        }
      ],
      "metadata": {
        "jupyter": {
          "source_hidden": false,
          "outputs_hidden": false
        },
        "nteract": {
          "transient": {
            "deleting": false
          }
        },
        "collapsed": false
      },
      "source": [
        "display(\r\n",
        "    df1.join(df2,'name','leftouter')\r\n",
        ")"
      ]
    },
    {
      "cell_type": "code",
      "execution_count": 59,
      "outputs": [
        {
          "output_type": "display_data",
          "data": {
            "application/vnd.livy.statement-meta+json": {
              "spark_pool": "sparkcluster01",
              "session_id": "9619",
              "statement_id": 12,
              "state": "finished",
              "livy_statement_state": "available",
              "queued_time": "2022-09-05T06:09:12.9706006Z",
              "session_start_time": null,
              "execution_start_time": "2022-09-05T06:09:13.0625535Z",
              "execution_finish_time": "2022-09-05T06:09:15.8951282Z",
              "spark_jobs": null
            },
            "text/plain": "StatementMeta(sparkcluster01, 9619, 12, Finished, Available)"
          },
          "metadata": {}
        },
        {
          "output_type": "display_data",
          "data": {
            "application/vnd.synapse.widget-view+json": {
              "widget_id": "52826d78-7fb8-4ce6-858f-e244763f324b",
              "widget_type": "Synapse.DataFrame"
            },
            "text/plain": "SynapseWidget(Synapse.DataFrame, 52826d78-7fb8-4ce6-858f-e244763f324b)"
          },
          "metadata": {}
        }
      ],
      "metadata": {
        "jupyter": {
          "source_hidden": false,
          "outputs_hidden": false
        },
        "nteract": {
          "transient": {
            "deleting": false
          }
        },
        "collapsed": false
      },
      "source": [
        "display(\r\n",
        "    df1.join(df2,'name','rightouter')\r\n",
        ")"
      ]
    },
    {
      "cell_type": "markdown",
      "metadata": {
        "nteract": {
          "transient": {
            "deleting": false
          }
        }
      },
      "source": [
        "## semi / anti/ \r\n",
        "## [retrieve data from one table when column matched]\r\n",
        "- \"semi\" or \"leftsemi\" join returns the result left table rows which are matched with wanted column and exist in left table only\r\n",
        "- \"anti\" or \"leftanti\" join returns the result left table rows which are NOT matched with wanted column and exist in left table only\r\n",
        "- \"right\" join returns the result rows when matching column condition(s) is met and exist in right table only"
      ]
    },
    {
      "cell_type": "code",
      "execution_count": 60,
      "outputs": [
        {
          "output_type": "display_data",
          "data": {
            "application/vnd.livy.statement-meta+json": {
              "spark_pool": "sparkcluster01",
              "session_id": "9619",
              "statement_id": 13,
              "state": "finished",
              "livy_statement_state": "available",
              "queued_time": "2022-09-05T06:14:54.9660439Z",
              "session_start_time": null,
              "execution_start_time": "2022-09-05T06:14:55.1352976Z",
              "execution_finish_time": "2022-09-05T06:14:58.0133293Z",
              "spark_jobs": null
            },
            "text/plain": "StatementMeta(sparkcluster01, 9619, 13, Finished, Available)"
          },
          "metadata": {}
        },
        {
          "output_type": "display_data",
          "data": {
            "application/vnd.synapse.widget-view+json": {
              "widget_id": "54765e89-f480-416f-a2e3-cd1d999eb975",
              "widget_type": "Synapse.DataFrame"
            },
            "text/plain": "SynapseWidget(Synapse.DataFrame, 54765e89-f480-416f-a2e3-cd1d999eb975)"
          },
          "metadata": {}
        }
      ],
      "metadata": {
        "jupyter": {
          "source_hidden": false,
          "outputs_hidden": false
        },
        "nteract": {
          "transient": {
            "deleting": false
          }
        },
        "collapsed": false
      },
      "source": [
        "display(\r\n",
        "    df1.join(df2,'name','semi')\r\n",
        ")"
      ]
    },
    {
      "cell_type": "code",
      "execution_count": 62,
      "outputs": [
        {
          "output_type": "display_data",
          "data": {
            "application/vnd.livy.statement-meta+json": {
              "spark_pool": "sparkcluster01",
              "session_id": "9619",
              "statement_id": 15,
              "state": "finished",
              "livy_statement_state": "available",
              "queued_time": "2022-09-05T06:29:00.9696658Z",
              "session_start_time": null,
              "execution_start_time": "2022-09-05T06:29:01.1687988Z",
              "execution_finish_time": "2022-09-05T06:29:03.0083837Z",
              "spark_jobs": null
            },
            "text/plain": "StatementMeta(sparkcluster01, 9619, 15, Finished, Available)"
          },
          "metadata": {}
        },
        {
          "output_type": "display_data",
          "data": {
            "application/vnd.synapse.widget-view+json": {
              "widget_id": "e43c3a0b-ebaa-4181-8859-7e2f9b9f406a",
              "widget_type": "Synapse.DataFrame"
            },
            "text/plain": "SynapseWidget(Synapse.DataFrame, e43c3a0b-ebaa-4181-8859-7e2f9b9f406a)"
          },
          "metadata": {}
        }
      ],
      "metadata": {
        "jupyter": {
          "source_hidden": false,
          "outputs_hidden": false
        },
        "nteract": {
          "transient": {
            "deleting": false
          }
        },
        "collapsed": false
      },
      "source": [
        "display(\r\n",
        "    df1.join(df2,'name','anti')\r\n",
        ")"
      ]
    },
    {
      "cell_type": "markdown",
      "metadata": {
        "nteract": {
          "transient": {
            "deleting": false
          }
        }
      },
      "source": [
        "## cross\r\n",
        "## [retrieve both dataframe datas]\r\n",
        "- \"cross\" join returns Cartesian product result in which make engagement with two specify dataframe"
      ]
    },
    {
      "cell_type": "code",
      "execution_count": 69,
      "outputs": [
        {
          "output_type": "display_data",
          "data": {
            "application/vnd.livy.statement-meta+json": {
              "spark_pool": "sparkcluster01",
              "session_id": "9619",
              "statement_id": 22,
              "state": "finished",
              "livy_statement_state": "available",
              "queued_time": "2022-09-05T06:34:49.052224Z",
              "session_start_time": null,
              "execution_start_time": "2022-09-05T06:34:49.1511838Z",
              "execution_finish_time": "2022-09-05T06:34:50.979146Z",
              "spark_jobs": null
            },
            "text/plain": "StatementMeta(sparkcluster01, 9619, 22, Finished, Available)"
          },
          "metadata": {}
        },
        {
          "output_type": "display_data",
          "data": {
            "application/vnd.synapse.widget-view+json": {
              "widget_id": "8866492b-e81c-4231-bdea-1b2e70c9608a",
              "widget_type": "Synapse.DataFrame"
            },
            "text/plain": "SynapseWidget(Synapse.DataFrame, 8866492b-e81c-4231-bdea-1b2e70c9608a)"
          },
          "metadata": {}
        }
      ],
      "metadata": {
        "jupyter": {
          "source_hidden": false,
          "outputs_hidden": false
        },
        "nteract": {
          "transient": {
            "deleting": false
          }
        },
        "collapsed": false
      },
      "source": [
        "display(\r\n",
        "    df1.join(df2)\r\n",
        ")"
      ]
    },
    {
      "cell_type": "markdown",
      "metadata": {
        "nteract": {
          "transient": {
            "deleting": false
          }
        }
      },
      "source": [
        "# The case engaging with multiple matching columns"
      ]
    },
    {
      "cell_type": "code",
      "execution_count": 72,
      "outputs": [
        {
          "output_type": "display_data",
          "data": {
            "application/vnd.livy.statement-meta+json": {
              "spark_pool": "sparkcluster01",
              "session_id": "9619",
              "statement_id": 25,
              "state": "finished",
              "livy_statement_state": "available",
              "queued_time": "2022-09-05T06:42:23.3441663Z",
              "session_start_time": null,
              "execution_start_time": "2022-09-05T06:42:23.4580262Z",
              "execution_finish_time": "2022-09-05T06:42:25.2912689Z",
              "spark_jobs": null
            },
            "text/plain": "StatementMeta(sparkcluster01, 9619, 25, Finished, Available)"
          },
          "metadata": {}
        },
        {
          "output_type": "display_data",
          "data": {
            "application/vnd.synapse.widget-view+json": {
              "widget_id": "c6c71ed1-ace5-425a-b962-794523d7e66f",
              "widget_type": "Synapse.DataFrame"
            },
            "text/plain": "SynapseWidget(Synapse.DataFrame, c6c71ed1-ace5-425a-b962-794523d7e66f)"
          },
          "metadata": {}
        }
      ],
      "metadata": {
        "jupyter": {
          "source_hidden": false,
          "outputs_hidden": false
        },
        "nteract": {
          "transient": {
            "deleting": false
          }
        },
        "collapsed": false
      },
      "source": [
        "display(\r\n",
        "    df1.join(df2,['name','age'],'anti')\r\n",
        ")"
      ]
    }
  ]
}